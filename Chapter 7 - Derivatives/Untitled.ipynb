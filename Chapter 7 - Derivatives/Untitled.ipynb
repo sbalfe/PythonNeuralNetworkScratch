{
 "cells": [
  {
   "cell_type": "code",
   "execution_count": 7,
   "metadata": {},
   "outputs": [
    {
     "name": "stdout",
     "output_type": "stream",
     "text": [
      "(2, 8) (2.0001, 8.000800020000002)\n",
      "Approximate derivative for f(x) where x = 2 is 8.000199999998785 \n"
     ]
    },
    {
     "data": {
      "image/png": "[encoded data removed]",
      "text/plain": [
       "<Figure size 432x288 with 1 Axes>"
      ]
     },
     "metadata": {
      "needs_background": "light"
     },
     "output_type": "display_data"
    }
   ],
   "source": [
    "import matplotlib.pyplot as plt\n",
    "import numpy as np\n",
    "\n",
    "def f ( x ):\n",
    "     return 2 * x ** 2\n",
    "\n",
    "# np.arange(start, stop, step) to give us smoother line\n",
    "x = np.arange( 0 , 5 , 0.001 )\n",
    "y = f(x)\n",
    "plt.plot(x, y)\n",
    "\n",
    "# The point and the \"close enough\" point\n",
    "p2_delta = 0.0001\n",
    "x1 = 2\n",
    "x2 = x1 + p2_delta\n",
    "y1 = f(x1)\n",
    "y2 = f(x2)\n",
    "print ((x1, y1), (x2, y2))\n",
    "\n",
    "# Derivative approximation and y-intercept for the tangent line\n",
    "approximate_derivative = (y2 - y1) / (x2 - x1)\n",
    "b = y2 - approximate_derivative * x2\n",
    "\n",
    "# We put the tangent line calculation into a function so we can call\n",
    "# it multiple times for different values of x\n",
    "# approximate_derivative and b are constant for given function\n",
    "# thus calculated once above this function\n",
    "def tangent_line ( x ):\n",
    "    return approximate_derivative * x + b\n",
    "\n",
    "# plotting the tangent line\n",
    "# +/- 0.9 to draw the tangent line on our graph\n",
    "# then we calculate the y for given x using the tangent line function\n",
    "# Matplotlib will draw a line for us through these points\n",
    "to_plot = [x1 - 0.9 , x1, x1 + 0.9, ]\n",
    "\n",
    "#plot (x,y) where x is the range of to_plot and y is the tanget calculation at that approximate point \n",
    "plt.plot(to_plot, [tangent_line(i) for i in to_plot])\n",
    "\n",
    "\n",
    "print ( 'Approximate derivative for f(x)' ,f'where x = {x1} is {approximate_derivative} ' )\n",
    "\n",
    "plt.show()"
   ]
  },
  {
   "cell_type": "code",
   "execution_count": 10,
   "metadata": {},
   "outputs": [
    {
     "name": "stdout",
     "output_type": "stream",
     "text": [
      "(0, 0) (0.0001, 2e-08)\n",
      "Approximate derivative for f(x) where x = 0 is 0.00019999999999999998 \n",
      "(1, 2) (1.0001, 2.00040002)\n",
      "Approximate derivative for f(x) where x = 1 is 4.0001999999987845 \n",
      "(2, 8) (2.0001, 8.000800020000002)\n",
      "Approximate derivative for f(x) where x = 2 is 8.000199999998785 \n",
      "(3, 18) (3.0001, 18.001200020000002)\n",
      "Approximate derivative for f(x) where x = 3 is 12.000199999998785 \n",
      "(4, 32) (4.0001, 32.00160002)\n",
      "Approximate derivative for f(x) where x = 4 is 16.000200000016548 \n"
     ]
    },
    {
     "data": {
      "image/png": "[encoded data removed]",
      "text/plain": [
       "<Figure size 432x288 with 1 Axes>"
      ]
     },
     "metadata": {
      "needs_background": "light"
     },
     "output_type": "display_data"
    }
   ],
   "source": [
    "import matplotlib.pyplot as plt\n",
    "import numpy as np\n",
    "def f ( x ):\n",
    "    return 2 * x ** 2\n",
    "\n",
    "# np.arange(start, stop, step) to give us a smoother curve\n",
    "x = np.array(np.arange( 0 , 5 , 0.001 ))\n",
    "y = f(x)\n",
    "plt.plot(x, y)\n",
    "colors = [ 'k' , 'g' , 'r' , 'b' , 'c' ]\n",
    "\n",
    "def approximate_tangent_line ( x , approximate_derivative ):\n",
    "    return (approximate_derivative * x) + b\n",
    "\n",
    "# same as above but over 5 points and also plotting the points and tangents for each\n",
    "for i in range ( 5 ):\n",
    "    p2_delta = 0.0001\n",
    "    \n",
    "    x1 = i\n",
    "    x2 = x1 + p2_delta\n",
    "    y1 = f(x1)\n",
    "    y2 = f(x2)\n",
    "    print ((x1, y1), (x2, y2))\n",
    "    \n",
    "    approximate_derivative = (y2 - y1) / (x2 - x1)\n",
    "    \n",
    "    b = y2 - (approximate_derivative * x2)\n",
    "    \n",
    "    to_plot = [x1 - 0.9 , x1, x1 + 0.9 ]\n",
    "    \n",
    "    # place each point \n",
    "    plt.scatter(x1, y1, c = colors[i])\n",
    "    \n",
    "    # fills first with each point in to_plot\n",
    "    # point in the first for passed into tangent of second to obtain a tangent \n",
    "    plt.plot([point for point in to_plot],[approximate_tangent_line(point,approximate_derivative)\n",
    "    for point in to_plot],\n",
    "    c = colors[i])\n",
    "    print ( 'Approximate derivative for f(x)' ,\n",
    "    f'where x = {x1} is {approximate_derivative} ' )\n",
    "    \n",
    "plt.show()"
   ]
  },
  {
   "cell_type": "code",
   "execution_count": 1,
   "metadata": {},
   "outputs": [
    {
     "name": "stdout",
     "output_type": "stream",
     "text": [
      "[[ 1.   2.  -1.5]\n",
      " [ 2.   5.   2.7]\n",
      " [ 3.  -1.   3.3]\n",
      " [ 2.5  2.  -0.8]]\n",
      "[[1. 1. 1.]\n",
      " [2. 2. 2.]\n",
      " [3. 3. 3.]]\n",
      "[[ 0.5  0.5  0.5]\n",
      " [20.1 20.1 20.1]\n",
      " [10.9 10.9 10.9]\n",
      " [ 4.1  4.1  4.1]]\n"
     ]
    }
   ],
   "source": [
    "import numpy as np\n",
    "\n",
    "# Passed-in gradient from the next layer\n",
    "# for the purpose of this example we're going to use\n",
    "# an array of an incremental gradient values\n",
    "dvalues = np.array([[1., 1., 1.],\n",
    "\t\t\t\t\t[2., 2., 2.],\n",
    "\t\t\t\t\t[3., 3., 3.]])\n",
    "\n",
    "# We have 3 sets of inputs - samples\n",
    "inputs = np.array([[1, 2, 3, 2.5],\n",
    "\t\t\t\t   [2., 5., -1., 2],\n",
    "                   [-1.5, 2.7, 3.3, -0.8]])\n",
    "\n",
    "print(inputs.T)\n",
    "print(dvalues)\n",
    "\n",
    "# sum weights of given input\n",
    "# and multiply by the passed-in gradient for this neuron\n",
    "dweights = np.dot(inputs.T, dvalues)\n",
    "\n",
    "print(dweights)\n"
   ]
  },
  {
   "cell_type": "code",
   "execution_count": 2,
   "metadata": {},
   "outputs": [
    {
     "name": "stdout",
     "output_type": "stream",
     "text": [
      "0.26\n",
      "[[ 0.2   0.8  -0.5   1.  ]\n",
      " [ 0.5  -0.91  0.26 -0.5 ]\n",
      " [-0.26 -0.27  0.17  0.87]]\n",
      "\n",
      "\n",
      "[[1. 1. 1.]\n",
      " [2. 2. 2.]\n",
      " [3. 3. 3.]]\n",
      "\n",
      "\n",
      "[[ 0.44 -0.38 -0.07  1.37]\n",
      " [ 0.88 -0.76 -0.14  2.74]\n",
      " [ 1.32 -1.14 -0.21  4.11]]\n"
     ]
    }
   ],
   "source": [
    "import numpy as np\n",
    "\n",
    "# Passed-in gradient from the next layer\n",
    "# for the purpose of this example we're going to use\n",
    "# an array of an incremental gradient values\n",
    "dvalues = np.array([[1., 1., 1.],\n",
    "[2., 2., 2.],\n",
    "[3., 3., 3.]])\n",
    "\n",
    "# We have 3 sets of weights - one set for each neuron\n",
    "# we have 4 inputs, thus 4 weights\n",
    "# recall that we keep weights transposed\n",
    "weights = np.array([[0.2, 0.8, -0.5, 1],\n",
    "[0.5, -0.91, 0.26, -0.5],\n",
    "[-0.26, -0.27, 0.17, 0.87]]).T\n",
    "\n",
    "\n",
    "\n",
    "print(weights.T)\n",
    "print(\"\\n\")\n",
    "print(dvalues)\n",
    "print(\"\\n\")\n",
    "# sum weights of given input\n",
    "# and multiply by the passed-in gradient for this neuron\n",
    "dinputs = np.dot(dvalues, weights.T)\n",
    "\n",
    "print(dinputs)"
   ]
  },
  {
   "cell_type": "code",
   "execution_count": null,
   "metadata": {},
   "outputs": [],
   "source": []
  }
 ],
 "metadata": {
  "kernelspec": {
   "display_name": "Python 3",
   "language": "python",
   "name": "python3"
  },
  "language_info": {
   "codemirror_mode": {
    "name": "ipython",
    "version": 3
   },
   "file_extension": ".py",
   "mimetype": "text/x-python",
   "name": "python",
   "nbconvert_exporter": "python",
   "pygments_lexer": "ipython3",
   "version": "3.8.3"
  }
 },
 "nbformat": 4,
 "nbformat_minor": 4
}
